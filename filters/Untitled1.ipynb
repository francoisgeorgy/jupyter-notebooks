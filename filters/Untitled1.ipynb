{
 "cells": [
  {
   "cell_type": "markdown",
   "id": "f4d856b6-cbaa-4283-98e2-1c9ed47d469e",
   "metadata": {},
   "source": [
    "To plot a sinusoidal signal with a period that follows the sample and hold signal period, you can modify the code from the previous answer as follows:\n",
    "\n",
    "Define the frequency of the sinusoidal signal and the sample rate of the sample and hold operation:\n",
    "    "
   ]
  },
  {
   "cell_type": "code",
   "execution_count": 1,
   "id": "3e1fc74e-2523-4c0d-8d74-e686bb417d8b",
   "metadata": {},
   "outputs": [],
   "source": [
    "freq = 1 # frequency of sinusoidal signal\n",
    "rate = 10 # sample rate of sample and hold signal\n"
   ]
  },
  {
   "cell_type": "markdown",
   "id": "10014036-557b-4ddb-96ef-9b120805b2eb",
   "metadata": {},
   "source": [
    "Generate the sinusoidal signal using numpy's sin function:\n"
   ]
  },
  {
   "cell_type": "code",
   "execution_count": 2,
   "id": "7efa5833-d215-4bfb-af11-ccc38024300c",
   "metadata": {},
   "outputs": [
    {
     "ename": "NameError",
     "evalue": "name 'np' is not defined",
     "output_type": "error",
     "traceback": [
      "\u001b[0;31m---------------------------------------------------------------------------\u001b[0m",
      "\u001b[0;31mNameError\u001b[0m                                 Traceback (most recent call last)",
      "\u001b[0;32m<ipython-input-2-4079642bfb5e>\u001b[0m in \u001b[0;36m<module>\u001b[0;34m\u001b[0m\n\u001b[0;32m----> 1\u001b[0;31m \u001b[0msinusoidal\u001b[0m \u001b[0;34m=\u001b[0m \u001b[0mnp\u001b[0m\u001b[0;34m.\u001b[0m\u001b[0msin\u001b[0m\u001b[0;34m(\u001b[0m\u001b[0;36m2\u001b[0m\u001b[0;34m*\u001b[0m\u001b[0mnp\u001b[0m\u001b[0;34m.\u001b[0m\u001b[0mpi\u001b[0m\u001b[0;34m*\u001b[0m\u001b[0mfreq\u001b[0m\u001b[0;34m*\u001b[0m\u001b[0mt\u001b[0m\u001b[0;34m)\u001b[0m\u001b[0;34m\u001b[0m\u001b[0;34m\u001b[0m\u001b[0m\n\u001b[0m",
      "\u001b[0;31mNameError\u001b[0m: name 'np' is not defined"
     ]
    }
   ],
   "source": [
    "sinusoidal = np.sin(2*np.pi*freq*t)\n"
   ]
  },
  {
   "cell_type": "markdown",
   "id": "c2f0ae0b-5aa7-4fb6-ac19-a154903606dc",
   "metadata": {},
   "source": [
    "Apply the sample and hold operation to the sinusoidal signal:\n"
   ]
  },
  {
   "cell_type": "code",
   "execution_count": null,
   "id": "67995eca-d88a-420e-b472-d1198dd77930",
   "metadata": {},
   "outputs": [],
   "source": [
    "hold_signal = sample_and_hold(sinusoidal, rate)\n"
   ]
  },
  {
   "cell_type": "markdown",
   "id": "9b82d74b-5cbc-4f7b-ba42-ed95f08104fa",
   "metadata": {},
   "source": [
    "Compute the period of the sample and hold signal using numpy's diff function and find the indices where the sample and hold signal changes from one sample to the next:\n"
   ]
  },
  {
   "cell_type": "code",
   "execution_count": null,
   "id": "d8b27aae-287a-4ca0-a460-e07633488e59",
   "metadata": {},
   "outputs": [],
   "source": [
    "hold_diff = np.diff(hold_signal)\n",
    "hold_changes = np.nonzero(hold_diff)[0] + 1 # add 1 to get the index after the change\n",
    "hold_periods = np.diff(hold_changes) / rate # periods in seconds\n"
   ]
  },
  {
   "cell_type": "markdown",
   "id": "00b96b2e-e67c-454e-b332-afe3e27ac76e",
   "metadata": {},
   "source": [
    "Compute the average period of the sample and hold signal:\n"
   ]
  },
  {
   "cell_type": "code",
   "execution_count": null,
   "id": "07c9a1ed-ca76-4084-911b-0f350e2ad498",
   "metadata": {},
   "outputs": [],
   "source": [
    "avg_period = np.mean(hold_periods)\n"
   ]
  },
  {
   "cell_type": "markdown",
   "id": "94a66cfd-cb86-40b7-ad9b-1721eb881e0e",
   "metadata": {},
   "source": [
    "Plot the original sinusoidal signal and the sample and hold signal with their respective periods using matplotlib:\n"
   ]
  },
  {
   "cell_type": "code",
   "execution_count": null,
   "id": "c77f2919-d487-4ffd-ad76-253528ee93a7",
   "metadata": {},
   "outputs": [],
   "source": [
    "plt.plot(t, sinusoidal, label='Sinusoidal')\n",
    "plt.plot(t, hold_signal, label=f'Sample and Hold ({rate} Hz)')\n",
    "plt.axvspan(0, avg_period, alpha=0.2, color='grey', label=f'Period = {avg_period:.2f} s')\n",
    "plt.legend()\n",
    "plt.xlabel('Time (s)')\n",
    "plt.ylabel('Amplitude')\n",
    "plt.show()\n"
   ]
  },
  {
   "cell_type": "markdown",
   "id": "abb8c005-74f3-4aad-8717-6e3a6e6e999b",
   "metadata": {},
   "source": [
    "The resulting plot should show the original sinusoidal signal and the sample and hold signal with a sample rate of 10 Hz and the period of the sample and hold signal highlighted in grey. You can adjust the frequency and the sample rate to obtain different plots.\n",
    "\n",
    "\n",
    "\n"
   ]
  },
  {
   "cell_type": "code",
   "execution_count": null,
   "id": "bf157655-5c6e-4663-a7bb-e0a095370e83",
   "metadata": {},
   "outputs": [],
   "source": []
  }
 ],
 "metadata": {
  "kernelspec": {
   "display_name": "Python 3",
   "language": "python",
   "name": "python3"
  },
  "language_info": {
   "codemirror_mode": {
    "name": "ipython",
    "version": 3
   },
   "file_extension": ".py",
   "mimetype": "text/x-python",
   "name": "python",
   "nbconvert_exporter": "python",
   "pygments_lexer": "ipython3",
   "version": "3.6.9"
  }
 },
 "nbformat": 4,
 "nbformat_minor": 5
}
