{
 "cells": [
  {
   "cell_type": "code",
   "execution_count": null,
   "id": "f8aa7243-2735-413b-b891-d15571c89fed",
   "metadata": {},
   "outputs": [],
   "source": []
  }
 ],
 "metadata": {
  "kernelspec": {
   "display_name": "",
   "name": ""
  },
  "language_info": {
   "name": ""
  }
 },
 "nbformat": 4,
 "nbformat_minor": 5
}
