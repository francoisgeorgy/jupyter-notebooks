{
 "cells": [
  {
   "cell_type": "code",
   "execution_count": 6,
   "id": "f3a405e8-f86a-4219-a7d0-f894f3ce22af",
   "metadata": {},
   "outputs": [
    {
     "name": "stdout",
     "output_type": "stream",
     "text": [
      "0.0\n",
      "0.0\n",
      "0.0\n"
     ]
    }
   ],
   "source": [
    "import numpy\n",
    "import math\n",
    "\n",
    "print(numpy.sin(0))\n",
    "\n",
    "print(numpy.sign(numpy.sin(0)))\n",
    "\n",
    "print(numpy.sin(2 * numpy.pi * 0.0))"
   ]
  },
  {
   "cell_type": "code",
   "execution_count": null,
   "id": "a2434a3b-93b7-46cc-8aed-d143c77b30a6",
   "metadata": {},
   "outputs": [],
   "source": []
  }
 ],
 "metadata": {
  "kernelspec": {
   "display_name": "Python 3 (ipykernel)",
   "language": "python",
   "name": "python3"
  },
  "language_info": {
   "codemirror_mode": {
    "name": "ipython",
    "version": 3
   },
   "file_extension": ".py",
   "mimetype": "text/x-python",
   "name": "python",
   "nbconvert_exporter": "python",
   "pygments_lexer": "ipython3",
   "version": "3.10.6"
  }
 },
 "nbformat": 4,
 "nbformat_minor": 5
}
