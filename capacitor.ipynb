{
 "cells": [
  {
   "cell_type": "code",
   "execution_count": 7,
   "id": "140b3c6c-a30d-459e-a10f-682a4a636d7b",
   "metadata": {},
   "outputs": [
    {
     "data": {
      "image/png": "[encoded data removed]",
      "text/plain": [
       "<Figure size 432x288 with 1 Axes>"
      ]
     },
     "metadata": {
      "needs_background": "light"
     },
     "output_type": "display_data"
    }
   ],
   "source": [
    "import matplotlib.pyplot as plt\n",
    "import numpy as np\n",
    "import math\n",
    "#plt.rcParams[\"figure.figsize\"] = (8,8)\n",
    "\n",
    "R = 1000.0\n",
    "C = 0.002\n",
    "T = R * C\n",
    "V0 = 1.0\n",
    "\n",
    "# t = np.linspace(0, 1, 500)    # Return evenly spaced numbers over a specified interval\n",
    "t = np.arange(0.0, 10.0, 0.1)     # Return evenly spaced values within a given interval.\n",
    "\n",
    "plt.plot(t, V0 * np.exp( -t / T))\n",
    "\n",
    "#discharge = V0 * np.exp( -t / T)\n",
    "#fig, ax = plt.subplots(1, 1, figsize=(10,10))\n",
    "#ax[0].plot(t, discharge)\n",
    "#ax[0].set(xlabel='time', ylabel='amplitude', title='discharge')\n",
    "#ax[0].grid()\n",
    "# fig.tight_layout()\n",
    "plt.show()\n"
   ]
  },
  {
   "cell_type": "code",
   "execution_count": null,
   "id": "9263ce8d-963f-4368-bbbd-249f6a176c9b",
   "metadata": {},
   "outputs": [],
   "source": []
  },
  {
   "cell_type": "code",
   "execution_count": null,
   "id": "d9cb0da0-ce1b-4d6d-8b52-98a0c88b7d87",
   "metadata": {},
   "outputs": [],
   "source": []
  },
  {
   "cell_type": "code",
   "execution_count": null,
   "id": "8f20f1df-94bd-44e1-b89c-b7ffd5ce46da",
   "metadata": {},
   "outputs": [],
   "source": []
  }
 ],
 "metadata": {
  "kernelspec": {
   "display_name": "Python 3 (ipykernel)",
   "language": "python",
   "name": "python3"
  },
  "language_info": {
   "codemirror_mode": {
    "name": "ipython",
    "version": 3
   },
   "file_extension": ".py",
   "mimetype": "text/x-python",
   "name": "python",
   "nbconvert_exporter": "python",
   "pygments_lexer": "ipython3",
   "version": "3.10.6"
  }
 },
 "nbformat": 4,
 "nbformat_minor": 5
}
