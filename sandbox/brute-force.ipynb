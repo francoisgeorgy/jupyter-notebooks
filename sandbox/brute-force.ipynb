{
 "cells": [
  {
   "cell_type": "markdown",
   "id": "d219c99e-dd57-4020-aa68-ebef3f895d1d",
   "metadata": {},
   "source": [
    "Source: https://scikit-dsp-comm.readthedocs.io/en/latest/nb_examples/Continuous-Time%20Signals%20and%20Systems%20using%20sigsys.html"
   ]
  },
  {
   "cell_type": "code",
   "execution_count": 4,
   "id": "410adc3d-1862-4bca-bf99-645304cbdc16",
   "metadata": {},
   "outputs": [],
   "source": [
    "import numpy as np\n"
   ]
  },
  {
   "cell_type": "code",
   "execution_count": 11,
   "id": "3478afd1-8e68-451f-839c-05a96a542606",
   "metadata": {},
   "outputs": [],
   "source": [
    "def pulse_train(Np,fs,tau,t0):\n",
    "    \"\"\"\n",
    "    Generate a discrete-time approximation to a continuous-time\n",
    "    pulse train signal. Amplitude values are [0,1]. Scale and offset\n",
    "    later if needed.\n",
    "\n",
    "    Inputs\n",
    "    ------\n",
    "     Np = number of periods to generate\n",
    "     fs = samples per period\n",
    "    tau = duty cycle\n",
    "     t0 = pulse delay time relative to first rising edge at t = 0\n",
    "\n",
    "    Return\n",
    "    ------\n",
    "    t = time axis array\n",
    "    x = waveform\n",
    "\n",
    "    Mark Wickert, January 2015\n",
    "    \"\"\"\n",
    "    t = np.arange(0,Np*fs+1,1)/fs #time is normalized to make period T0 = 1.0\n",
    "    x = np.zeros_like(t)\n",
    "    # Using a brute force approach, just fill x with the sample values\n",
    "    for k,tk in enumerate(t):\n",
    "        if np.mod(tk-t0,1) <= tau and np.mod(tk-t0,1) >= 0:\n",
    "            x[k] = 1\n",
    "    return t,x"
   ]
  },
  {
   "cell_type": "code",
   "execution_count": 13,
   "id": "cadd322a-f86c-49f5-930e-4c79a818d7ca",
   "metadata": {},
   "outputs": [
    {
     "data": {
      "image/png": "[encoded data removed]",
      "text/plain": [
       "<Figure size 432x288 with 1 Axes>"
      ]
     },
     "metadata": {
      "needs_background": "light"
     },
     "output_type": "display_data"
    }
   ],
   "source": [
    "import matplotlib.pyplot as plt\n",
    "import math\n",
    "\n",
    "tau = 1/8\n",
    "fs = 8*16\n",
    "t0 = 0 # note t0 = tau/2\n",
    "t,x = pulse_train(4,fs,tau,t0)\n",
    "\n",
    "plt.plot(t,x) # Just a plot of xa(t)\n",
    "plt.ylim([-.1,1.1])\n",
    "plt.grid()\n",
    "plt.ylabel(r'$x_a(t)$')\n",
    "plt.title(r'Pulse Train Signal: (top) $x_a(t)$, (bot) $x_b(t) = 1-x_a(t)$');\n"
   ]
  },
  {
   "cell_type": "code",
   "execution_count": null,
   "id": "59641783-a09e-4e37-ab6f-11db583cc543",
   "metadata": {},
   "outputs": [],
   "source": []
  }
 ],
 "metadata": {
  "kernelspec": {
   "display_name": "Python 3 (ipykernel)",
   "language": "python",
   "name": "python3"
  },
  "language_info": {
   "codemirror_mode": {
    "name": "ipython",
    "version": 3
   },
   "file_extension": ".py",
   "mimetype": "text/x-python",
   "name": "python",
   "nbconvert_exporter": "python",
   "pygments_lexer": "ipython3",
   "version": "3.10.6"
  }
 },
 "nbformat": 4,
 "nbformat_minor": 5
}
