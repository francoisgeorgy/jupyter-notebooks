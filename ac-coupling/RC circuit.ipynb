{
 "cells": [
  {
   "cell_type": "markdown",
   "metadata": {
    "nbpresent": {
     "id": "8b22fff1-9663-4fe9-934b-b7f28057032e"
    }
   },
   "source": [
    "Simulation and identification of RC circut\n",
    "=============================\n",
    "\n",
    "First part of this post will by about simulating basic RC circuit. We start from differential equation and then calculate transfer function. Secound part will be comparing step response of iurs modeal and real RC-circuit.\n",
    "All simulation was done in Python. \n",
    "\n",
    "First we need to load librarys:"
   ]
  },
  {
   "cell_type": "code",
   "execution_count": 1,
   "metadata": {
    "collapsed": false,
    "jupyter": {
     "outputs_hidden": false
    },
    "nbpresent": {
     "id": "7a46d2d8-0f3a-4a67-9e9f-bd74bc9faa8a"
    }
   },
   "outputs": [
    {
     "name": "stdout",
     "output_type": "stream",
     "text": [
      "IPython console for SymPy 1.0 (Python 3.5.2-64-bit) (ground types: python)\n",
      "\n",
      "These commands were executed:\n",
      ">>> from __future__ import division\n",
      ">>> from sympy import *\n",
      ">>> x, y, z, t = symbols('x y z t')\n",
      ">>> k, m, n = symbols('k m n', integer=True)\n",
      ">>> f, g, h = symbols('f g h', cls=Function)\n",
      ">>> init_printing()\n",
      "\n",
      "Documentation can be found at http://docs.sympy.org/1.0/\n"
     ]
    }
   ],
   "source": [
    "import numpy\n",
    "import scipy\n",
    "import matplotlib.pyplot as plt\n",
    "%matplotlib inline\n",
    "from sympy import init_session\n",
    "init_session() \n",
    "import scipy.signal as sig\n",
    "import scipy.optimize as opt\n",
    "from IPython.display import Image"
   ]
  },
  {
   "cell_type": "markdown",
   "metadata": {
    "nbpresent": {
     "id": "cc1505b9-a1b1-4cdd-a2f8-5941604264db"
    }
   },
   "source": [
    "Equations\n",
    "---------\n",
    "The scheme of circuit is shown in belowe figure:\n",
    "![title](RC.png)\n",
    "The input is of system is $u(t)$. The output $y(t)$ is voltage on capasitor. $R$ is resistance in Ohms and $C$ capacity in Farads. $q(t)$ is the charge on capacitor. From Ohms and Kirchoffs laws we could get equations:"
   ]
  },
  {
   "cell_type": "code",
   "execution_count": 2,
   "metadata": {
    "collapsed": false,
    "jupyter": {
     "outputs_hidden": false
    },
    "nbpresent": {
     "id": "42c89099-18d2-44df-a21b-2457684f1409"
    }
   },
   "outputs": [
    {
     "data": {
      "image/png": "[encoded data removed]",
      "text/latex": [
       "$$\\left [ u{\\left (t \\right )} = R \\frac{d}{d t} x{\\left (t \\right )} + \\frac{1}{C} x{\\left (t \\right )}, \\quad y{\\left (t \\right )} = \\frac{1}{C} x{\\left (t \\right )}\\right ]$$"
      ],
      "text/plain": [
       "⎡         d          x(t)         x(t)⎤\n",
       "⎢u(t) = R⋅──(x(t)) + ────, y(t) = ────⎥\n",
       "⎣         dt          C            C  ⎦"
      ]
     },
     "execution_count": 2,
     "metadata": {},
     "output_type": "execute_result"
    }
   ],
   "source": [
    "t = symbols('t')\n",
    "u = Function('u')(t)\n",
    "x = Function('x')(t)\n",
    "y = Function('y')(t)\n",
    "R, C = symbols('R C')\n",
    "equations = [Eq(u, R*Derivative(x, t)+x/C), Eq(y, x/C)]\n",
    "equations"
   ]
  },
  {
   "cell_type": "markdown",
   "metadata": {
    "nbpresent": {
     "id": "63f1dd54-f3e1-46c7-abaa-04635da68a8e"
    }
   },
   "source": [
    "The we gen calculate Laplace transform of our equation. Simpy currently can not do that, so we performe it manualy. $G(s)$ will be transfer function of this system."
   ]
  },
  {
   "cell_type": "code",
   "execution_count": 3,
   "metadata": {
    "collapsed": false,
    "jupyter": {
     "outputs_hidden": false
    },
    "nbpresent": {
     "id": "569ed455-7b16-42a6-9684-7cede753a0d6"
    }
   },
   "outputs": [
    {
     "data": {
      "image/png": "[encoded data removed]",
      "text/latex": [
       "$$\\left [ U{\\left (s \\right )} = R s X{\\left (s \\right )} + \\frac{1}{C} X{\\left (s \\right )}, \\quad Y{\\left (s \\right )} = \\frac{1}{C} X{\\left (s \\right )}\\right ]$$"
      ],
      "text/plain": [
       "⎡                  X(s)         X(s)⎤\n",
       "⎢U(s) = R⋅s⋅X(s) + ────, Y(s) = ────⎥\n",
       "⎣                   C            C  ⎦"
      ]
     },
     "execution_count": 3,
     "metadata": {},
     "output_type": "execute_result"
    }
   ],
   "source": [
    "s = symbols('s')\n",
    "U = Function('U')(s)\n",
    "X = Function('X')(s)\n",
    "Y = Function('Y')(s)\n",
    "L_equations = [Eq(U, R*X*s+X/C), Eq(Y, X/C)]\n",
    "L_equations"
   ]
  },
  {
   "cell_type": "markdown",
   "metadata": {
    "nbpresent": {
     "id": "a4f704b1-01d4-4606-923f-f2fb33d7b5bc"
    }
   },
   "source": [
    "Then we could solve this system of equations and get transfer function:"
   ]
  },
  {
   "cell_type": "code",
   "execution_count": 4,
   "metadata": {
    "collapsed": false,
    "jupyter": {
     "outputs_hidden": false
    },
    "nbpresent": {
     "id": "42cf7b36-08b5-44b5-8961-4d7383221ebb"
    }
   },
   "outputs": [
    {
     "data": {
      "image/png": "[encoded data removed]",
      "text/latex": [
       "$$\\frac{1}{C R s + 1}$$"
      ],
      "text/plain": [
       "    1    \n",
       "─────────\n",
       "C⋅R⋅s + 1"
      ]
     },
     "execution_count": 4,
     "metadata": {},
     "output_type": "execute_result"
    }
   ],
   "source": [
    "L_s = solve(L_equations,Y,X)\n",
    "G = L_s[Y]/U\n",
    "G"
   ]
  },
  {
   "cell_type": "markdown",
   "metadata": {
    "nbpresent": {
     "id": "9dbbe442-7834-4755-95bf-e43a82e3efd2"
    }
   },
   "source": [
    "We get first order objet. Now we choose values for parameters and create transfer function for futures calculations:"
   ]
  },
  {
   "cell_type": "code",
   "execution_count": 5,
   "metadata": {
    "collapsed": false,
    "jupyter": {
     "outputs_hidden": false
    },
    "nbpresent": {
     "id": "96673f88-b37f-4717-af58-872599740729"
    }
   },
   "outputs": [
    {
     "data": {
      "image/png": "[encoded data removed]",
      "text/latex": [
       "$$\\frac{1}{0.01 s + 1}$$"
      ],
      "text/plain": [
       "    1     \n",
       "──────────\n",
       "0.01⋅s + 1"
      ]
     },
     "execution_count": 5,
     "metadata": {},
     "output_type": "execute_result"
    }
   ],
   "source": [
    "R_v = 100000\n",
    "C_v =  100e-9\n",
    "G_RC = G.subs(R, R_v).subs(C, C_v)\n",
    "G_RC"
   ]
  },
  {
   "cell_type": "code",
   "execution_count": 6,
   "metadata": {
    "collapsed": false,
    "jupyter": {
     "outputs_hidden": false
    },
    "nbpresent": {
     "id": "0acaf9e9-1304-47c0-9417-c49fd5777b90"
    }
   },
   "outputs": [],
   "source": [
    "num = Poly(fraction(G_RC)[0], s).all_coeffs()\n",
    "num = [float(i) for i in num]\n",
    "num = numpy.array(num)\n",
    "den = Poly(fraction(G_RC)[1], s).all_coeffs()\n",
    "den = [float(i) for i in den]\n",
    "den = numpy.array(den)\n",
    "G_n = sig.TransferFunction(num, den)"
   ]
  },
  {
   "cell_type": "markdown",
   "metadata": {
    "nbpresent": {
     "id": "20f24fcf-968b-4154-bbad-35dd29813471"
    }
   },
   "source": [
    "Now we could draw step response of our system:"
   ]
  },
  {
   "cell_type": "code",
   "execution_count": 7,
   "metadata": {
    "collapsed": false,
    "jupyter": {
     "outputs_hidden": false
    },
    "nbpresent": {
     "id": "c4fb9146-b6ab-495e-9c64-b84a3d8249be"
    }
   },
   "outputs": [
    {
     "data": {
      "text/plain": [
       "<matplotlib.text.Text at 0x1f1a8a9f198>"
      ]
     },
     "execution_count": 7,
     "metadata": {},
     "output_type": "execute_result"
    },
    {
     "data": {
      "image/png": "[encoded data removed]",
      "text/plain": [
       "<matplotlib.figure.Figure at 0x1f1a72ed780>"
      ]
     },
     "metadata": {},
     "output_type": "display_data"
    }
   ],
   "source": [
    "t = numpy.linspace(0, 0.4, 401)\n",
    "step_response=G_n.step(T=t)\n",
    "%matplotlib inline\n",
    "fig = plt.axes()\n",
    "fig.plot(step_response[0], step_response[1])\n",
    "fig.set_xlabel('t, s')\n",
    "fig.set_ylabel('y, V')"
   ]
  },
  {
   "cell_type": "markdown",
   "metadata": {
    "nbpresent": {
     "id": "46ee19a2-bf2e-4f48-aa2c-a3a08e23bce4"
    }
   },
   "source": [
    "And last simulation - respons for square wave:"
   ]
  },
  {
   "cell_type": "code",
   "execution_count": 8,
   "metadata": {
    "collapsed": false,
    "jupyter": {
     "outputs_hidden": false
    },
    "nbpresent": {
     "id": "2a615a10-e003-464e-9289-c0f3731e85b8"
    }
   },
   "outputs": [
    {
     "data": {
      "text/plain": [
       "<matplotlib.text.Text at 0x1f1a88c6518>"
      ]
     },
     "execution_count": 8,
     "metadata": {},
     "output_type": "execute_result"
    },
    {
     "data": {
      "image/png": "[encoded data removed]",
      "text/plain": [
       "<matplotlib.figure.Figure at 0x1f1a8aaf5f8>"
      ]
     },
     "metadata": {},
     "output_type": "display_data"
    }
   ],
   "source": [
    "pwm = 3.3*(sig.square(2*numpy.pi*10*t)+1)/2\n",
    "response = G_n.output(pwm, T=t)\n",
    "fig = plt.axes()\n",
    "fig.plot(t, pwm, t, response[1])\n",
    "fig.set_xlabel('t, s')\n",
    "fig.set_ylabel('V')"
   ]
  },
  {
   "cell_type": "markdown",
   "metadata": {
    "nbpresent": {
     "id": "6e32e478-2cf5-4573-add7-2f6bb8d3b233"
    }
   },
   "source": [
    "Experiment\n",
    "----------\n",
    "Simple program for STM32F401 was write. It generate pwm signal and gather voltage from capacitor by 12 bit ADC with frequwncy $1~kHz$. Belowe photo show measurements set-up:\n",
    "![title](rc_foto.png)\n",
    "Comparision beetween experimantal and simulated data is dhown in figure belowe:"
   ]
  },
  {
   "cell_type": "code",
   "execution_count": 9,
   "metadata": {
    "collapsed": false,
    "jupyter": {
     "outputs_hidden": false
    },
    "nbpresent": {
     "id": "cf3472ba-eee1-4648-8f2c-a37e5dfc48f8"
    }
   },
   "outputs": [
    {
     "data": {
      "text/plain": [
       "<matplotlib.text.Text at 0x1f1a8ad5518>"
      ]
     },
     "execution_count": 9,
     "metadata": {},
     "output_type": "execute_result"
    },
    {
     "data": {
      "image/png": "[encoded data removed]",
      "text/plain": [
       "<matplotlib.figure.Figure at 0x1f1a8d5cba8>"
      ]
     },
     "metadata": {},
     "output_type": "display_data"
    }
   ],
   "source": [
    "data = np.transpose(np.loadtxt('data.txt'));\n",
    "data[0] = 3.3*data[0]/(2**12-1)\n",
    "fig = plt.axes()\n",
    "experiment, = fig.plot(t[0:200], data[0][0:200], label='experiment')\n",
    "simulation, = fig.plot(t[0:200], response[1][0:200], label='simulation')\n",
    "control, = fig.plot(t[0:200], pwm[0:200], label = 'control')\n",
    "plt.legend(handles=[experiment, simulation, control])\n",
    "plt.legend(bbox_to_anchor=(0., 1.02, 1., .102), loc=3,\n",
    "           ncol=3, mode=\"expand\", borderaxespad=0.)\n",
    "fig.set_xlabel('t, s')\n",
    "fig.set_ylabel('V')"
   ]
  },
  {
   "cell_type": "markdown",
   "metadata": {
    "nbpresent": {
     "id": "06e42491-1701-4812-a5ed-9180c75fe89c"
    }
   },
   "source": [
    "The mean squear error beetween simulation and data:"
   ]
  },
  {
   "cell_type": "code",
   "execution_count": 10,
   "metadata": {
    "collapsed": false,
    "jupyter": {
     "outputs_hidden": false
    },
    "nbpresent": {
     "id": "0140355b-2280-493f-a82c-176f36960bd2"
    }
   },
   "outputs": [
    {
     "data": {
      "image/png": "[encoded data removed]",
      "text/latex": [
       "$$2.78395309908$$"
      ],
      "text/plain": [
       "2.78395309908"
      ]
     },
     "execution_count": 10,
     "metadata": {},
     "output_type": "execute_result"
    }
   ],
   "source": [
    "MSE = numpy.sum(numpy.power(data[0][0:200]-response[1][0:200], 2))\n",
    "MSE"
   ]
  },
  {
   "cell_type": "markdown",
   "metadata": {
    "nbpresent": {
     "id": "e6f7c840-3637-4118-b789-9911c94b9075"
    }
   },
   "source": [
    "We could optimize value of $RC$ for best fit to data. I measured value of $R$ and got $101.3~k\\Omega$, so this method could be used to obtain $C$."
   ]
  },
  {
   "cell_type": "code",
   "execution_count": 11,
   "metadata": {
    "collapsed": false,
    "jupyter": {
     "outputs_hidden": false
    },
    "nbpresent": {
     "id": "a5888f2f-a985-4a3c-a69f-a1e1d35cabd4"
    }
   },
   "outputs": [
    {
     "data": {
      "image/png": "[encoded data removed]",
      "text/latex": [
       "$$2.78395309908$$"
      ],
      "text/plain": [
       "2.78395309908"
      ]
     },
     "execution_count": 11,
     "metadata": {},
     "output_type": "execute_result"
    }
   ],
   "source": [
    "def ErrorFunc(RC):\n",
    "    t = numpy.linspace(0, 0.2, 201)\n",
    "    pwm = 3.3*(sig.square(2*numpy.pi*10*t)+1)/2\n",
    "    G_n = sig.TransferFunction(np.array([1]), np.array([RC[0], 1]))\n",
    "    res = G_n.output(pwm, T=t)\n",
    "    return numpy.sum(numpy.power(data[0][0:200]-res[1][0:200], 2))\n",
    "\n",
    "ErrorFunc(np.array([R_v*C_v]))"
   ]
  },
  {
   "cell_type": "code",
   "execution_count": 12,
   "metadata": {
    "collapsed": false,
    "jupyter": {
     "outputs_hidden": false
    },
    "nbpresent": {
     "id": "0c248c95-123b-4771-a34c-d80773ddfe85"
    }
   },
   "outputs": [
    {
     "data": {
      "text/plain": [
       "[array([ 0.00847335]), 0.21172472224806402]"
      ]
     },
     "execution_count": 12,
     "metadata": {},
     "output_type": "execute_result"
    }
   ],
   "source": [
    "output = opt.least_squares(ErrorFunc, np.array([R_v*C_v]))\n",
    "[output.x, ErrorFunc(output.x)]"
   ]
  },
  {
   "cell_type": "markdown",
   "metadata": {
    "nbpresent": {
     "id": "33337207-648a-423d-b47f-da253708ad8f"
    }
   },
   "source": [
    "Now it is possible to calculete exact value of $C$:"
   ]
  },
  {
   "cell_type": "code",
   "execution_count": 13,
   "metadata": {
    "collapsed": false,
    "jupyter": {
     "outputs_hidden": false
    },
    "nbpresent": {
     "id": "5275de98-7916-40b7-921f-d94ff9c7301a"
    }
   },
   "outputs": [
    {
     "data": {
      "image/png": "[encoded data removed]",
      "text/latex": [
       "$$8.3646141698e-08$$"
      ],
      "text/plain": [
       "8.3646141698e-08"
      ]
     },
     "execution_count": 13,
     "metadata": {},
     "output_type": "execute_result"
    }
   ],
   "source": [
    "output.x[0]/101300"
   ]
  },
  {
   "cell_type": "markdown",
   "metadata": {
    "nbpresent": {
     "id": "cabb0a8e-1ad6-4c0b-9e0d-7f9ba457fcc9"
    }
   },
   "source": [
    "So the capacity is aobiut $83.6~nF$. Comparison of respons of simulation and data is shown belowe:"
   ]
  },
  {
   "cell_type": "code",
   "execution_count": 14,
   "metadata": {
    "collapsed": false,
    "jupyter": {
     "outputs_hidden": false
    },
    "nbpresent": {
     "id": "f0d4510e-8c34-488f-99a9-fe87ee07c4c8"
    }
   },
   "outputs": [
    {
     "data": {
      "text/plain": [
       "<matplotlib.text.Text at 0x1f1aa7c1470>"
      ]
     },
     "execution_count": 14,
     "metadata": {},
     "output_type": "execute_result"
    },
    {
     "data": {
      "image/png": "[encoded data removed]",
      "text/plain": [
       "<matplotlib.figure.Figure at 0x1f1a8adccc0>"
      ]
     },
     "metadata": {},
     "output_type": "display_data"
    }
   ],
   "source": [
    "G_opt = sig.TransferFunction(np.array([1]), np.array([output.x[0], 1]))\n",
    "res_opt = G_opt.output(pwm, T=t)\n",
    "fig = plt.axes()\n",
    "experiment, = fig.plot(t[0:200], data[0][0:200], label='experiment')\n",
    "simulation, = fig.plot(t[0:200], res_opt[1][0:200], label='simulation')\n",
    "control, = fig.plot(t[0:200], pwm[0:200], label = 'control')\n",
    "plt.legend(handles=[experiment, simulation, control])\n",
    "plt.legend(bbox_to_anchor=(0., 1.02, 1., .102), loc=3,\n",
    "           ncol=3, mode=\"expand\", borderaxespad=0.)\n",
    "fig.set_xlabel('t, s')\n",
    "fig.set_ylabel('V')"
   ]
  },
  {
   "cell_type": "markdown",
   "metadata": {
    "nbpresent": {
     "id": "305ebc9c-365a-4475-acd9-5916be8d9bcd"
    }
   },
   "source": [
    "Summary\n",
    "---------\n",
    "This notebook cover some interesting python features: symbolic calculations, simulation of the transfer functions and last but not list identification of simple, but real dynamic system. \n",
    "I measure the capacity by multimeter and get value $89.3~nF$, so achived result is nod very good. But data from model rather good fit to data. Model was build on breadboard so there could be parasitic capacitance and resistance. "
   ]
  }
 ],
 "metadata": {
  "anaconda-cloud": {
   "attach-environment": false,
   "summary": "Simulation and identification of RC circuit"
  },
  "kernelspec": {
   "display_name": "Python 3 (ipykernel)",
   "language": "python",
   "name": "python3"
  },
  "language_info": {
   "codemirror_mode": {
    "name": "ipython",
    "version": 3
   },
   "file_extension": ".py",
   "mimetype": "text/x-python",
   "name": "python",
   "nbconvert_exporter": "python",
   "pygments_lexer": "ipython3",
   "version": "3.10.6"
  },
  "nbpresent": {
   "slides": {
    "0431f380-4022-4108-bbb8-55ef6b0745f4": {
     "id": "0431f380-4022-4108-bbb8-55ef6b0745f4",
     "prev": "35c9cf71-9a2c-4c8f-89a2-516112c08590",
     "regions": {
      "1bc8fbbe-2d69-41d3-bf2c-60fe5b8883d4": {
       "attrs": {
        "height": 0.8,
        "width": 0.8,
        "x": 0.1,
        "y": 0.1
       },
       "content": {
        "cell": "42c89099-18d2-44df-a21b-2457684f1409",
        "part": "whole"
       },
       "id": "1bc8fbbe-2d69-41d3-bf2c-60fe5b8883d4"
      }
     }
    },
    "233b54f0-bd41-4d32-9bb5-1a13de9cd5bb": {
     "id": "233b54f0-bd41-4d32-9bb5-1a13de9cd5bb",
     "prev": "d14c01e6-3bcd-46dd-8760-9578ef2adce4",
     "regions": {
      "e59b9e94-a17e-4194-b8ed-64d93c1b70dc": {
       "attrs": {
        "height": 0.8,
        "width": 0.8,
        "x": 0.1,
        "y": 0.1
       },
       "content": {
        "cell": "cf3472ba-eee1-4648-8f2c-a37e5dfc48f8",
        "part": "whole"
       },
       "id": "e59b9e94-a17e-4194-b8ed-64d93c1b70dc"
      }
     }
    },
    "251d9032-dc45-4602-a2ae-927c322b97b0": {
     "id": "251d9032-dc45-4602-a2ae-927c322b97b0",
     "prev": "bd1df3e2-95fc-4ba3-ba2e-06eb988b6213",
     "regions": {
      "92f834e9-0411-4b0d-aefd-a124bceb2218": {
       "attrs": {
        "height": 0.8,
        "width": 0.8,
        "x": 0.1,
        "y": 0.1
       },
       "content": {
        "cell": "46ee19a2-bf2e-4f48-aa2c-a3a08e23bce4",
        "part": "whole"
       },
       "id": "92f834e9-0411-4b0d-aefd-a124bceb2218"
      }
     }
    },
    "2a980468-f8c6-4ad3-95a1-407c52939473": {
     "id": "2a980468-f8c6-4ad3-95a1-407c52939473",
     "prev": null,
     "regions": {
      "cdea371e-bbd6-41c6-973a-6477806711f6": {
       "attrs": {
        "height": 0.8,
        "width": 0.8,
        "x": 0.1,
        "y": 0.1
       },
       "content": {
        "cell": "8b22fff1-9663-4fe9-934b-b7f28057032e",
        "part": "whole"
       },
       "id": "cdea371e-bbd6-41c6-973a-6477806711f6"
      }
     }
    },
    "2b21efb1-157d-460f-8452-b080cb0e3407": {
     "id": "2b21efb1-157d-460f-8452-b080cb0e3407",
     "prev": "251d9032-dc45-4602-a2ae-927c322b97b0",
     "regions": {
      "10b242ea-bb77-4534-b531-70e2c5936cd5": {
       "attrs": {
        "height": 0.8,
        "width": 0.8,
        "x": 0.1,
        "y": 0.1
       },
       "content": {
        "cell": "2a615a10-e003-464e-9289-c0f3731e85b8",
        "part": "whole"
       },
       "id": "10b242ea-bb77-4534-b531-70e2c5936cd5"
      }
     }
    },
    "35c9cf71-9a2c-4c8f-89a2-516112c08590": {
     "id": "35c9cf71-9a2c-4c8f-89a2-516112c08590",
     "prev": "9292dc94-b003-4f94-a952-5be2d6743fd0",
     "regions": {
      "ec585c3d-8ef3-4006-a84a-93848070fd8c": {
       "attrs": {
        "height": 0.8,
        "width": 0.8,
        "x": 0.1,
        "y": 0.1
       },
       "content": {
        "cell": "cc1505b9-a1b1-4cdd-a2f8-5941604264db",
        "part": "whole"
       },
       "id": "ec585c3d-8ef3-4006-a84a-93848070fd8c"
      }
     }
    },
    "4229c6c1-e389-4aac-a643-1f7802d48cc5": {
     "id": "4229c6c1-e389-4aac-a643-1f7802d48cc5",
     "prev": "4c532fc5-12e3-490d-b24f-96e6bed89beb",
     "regions": {
      "3ba6c72c-39c0-445a-9305-71d90a9dc929": {
       "attrs": {
        "height": 0.8,
        "width": 0.8,
        "x": 0.1,
        "y": 0.1
       },
       "content": {
        "cell": "5275de98-7916-40b7-921f-d94ff9c7301a",
        "part": "whole"
       },
       "id": "3ba6c72c-39c0-445a-9305-71d90a9dc929"
      }
     }
    },
    "4c532fc5-12e3-490d-b24f-96e6bed89beb": {
     "id": "4c532fc5-12e3-490d-b24f-96e6bed89beb",
     "prev": "98ed0aaf-16c8-475c-bc98-ca7e4866683c",
     "regions": {
      "70aabaa8-04f5-4579-9abd-ceebb25612fb": {
       "attrs": {
        "height": 0.8,
        "width": 0.8,
        "x": 0.1,
        "y": 0.1
       },
       "content": {
        "cell": "33337207-648a-423d-b47f-da253708ad8f",
        "part": "whole"
       },
       "id": "70aabaa8-04f5-4579-9abd-ceebb25612fb"
      }
     }
    },
    "631535b5-d081-4872-858a-b247dffc6a4f": {
     "id": "631535b5-d081-4872-858a-b247dffc6a4f",
     "prev": "d70fe30f-53ba-4cf9-b2ee-b9ec7305b0ff",
     "regions": {
      "55a3b54a-2f73-4e03-b0a7-545672a7ebf1": {
       "attrs": {
        "height": 0.8,
        "width": 0.8,
        "x": 0.1,
        "y": 0.1
       },
       "content": {
        "cell": "f0d4510e-8c34-488f-99a9-fe87ee07c4c8",
        "part": "whole"
       },
       "id": "55a3b54a-2f73-4e03-b0a7-545672a7ebf1"
      }
     }
    },
    "6ae3257c-7424-466b-adf2-946bd390c16f": {
     "id": "6ae3257c-7424-466b-adf2-946bd390c16f",
     "prev": "70f44589-ed5b-44fb-aafa-c2bde969ca52",
     "regions": {
      "6e1ee591-4041-4ab2-8d63-3430e363a230": {
       "attrs": {
        "height": 0.8,
        "width": 0.8,
        "x": 0.1,
        "y": 0.1
       },
       "content": {
        "cell": "96673f88-b37f-4717-af58-872599740729",
        "part": "whole"
       },
       "id": "6e1ee591-4041-4ab2-8d63-3430e363a230"
      }
     }
    },
    "70f44589-ed5b-44fb-aafa-c2bde969ca52": {
     "id": "70f44589-ed5b-44fb-aafa-c2bde969ca52",
     "prev": "845c3427-7c86-42e0-9f09-9a7c91d42e5b",
     "regions": {
      "18dd12fd-c345-47d1-8d5a-41680d0a9545": {
       "attrs": {
        "height": 0.8,
        "width": 0.8,
        "x": 0.1,
        "y": 0.1
       },
       "content": {
        "cell": "9dbbe442-7834-4755-95bf-e43a82e3efd2",
        "part": "whole"
       },
       "id": "18dd12fd-c345-47d1-8d5a-41680d0a9545"
      }
     }
    },
    "845c3427-7c86-42e0-9f09-9a7c91d42e5b": {
     "id": "845c3427-7c86-42e0-9f09-9a7c91d42e5b",
     "prev": "d075cd12-2ac8-46c0-b1b3-5a6e40c844af",
     "regions": {
      "e78fab2b-b16c-45b2-a291-f787af7e06c8": {
       "attrs": {
        "height": 0.8,
        "width": 0.8,
        "x": 0.1,
        "y": 0.1
       },
       "content": {
        "cell": "42cf7b36-08b5-44b5-8961-4d7383221ebb",
        "part": "whole"
       },
       "id": "e78fab2b-b16c-45b2-a291-f787af7e06c8"
      }
     }
    },
    "874f92cf-90ec-4bc8-a084-974a248bd6eb": {
     "id": "874f92cf-90ec-4bc8-a084-974a248bd6eb",
     "prev": "0431f380-4022-4108-bbb8-55ef6b0745f4",
     "regions": {
      "e6279ee8-aa28-4381-8f66-add5d2e5dd20": {
       "attrs": {
        "height": 0.8,
        "width": 0.8,
        "x": 0.1,
        "y": 0.1
       },
       "content": {
        "cell": "63f1dd54-f3e1-46c7-abaa-04635da68a8e",
        "part": "whole"
       },
       "id": "e6279ee8-aa28-4381-8f66-add5d2e5dd20"
      }
     }
    },
    "87b8fc1d-e76d-4fbd-92ad-9bd2c7bd4bc8": {
     "id": "87b8fc1d-e76d-4fbd-92ad-9bd2c7bd4bc8",
     "prev": "8a442d77-fd4f-4d66-8e0d-f4fd42558fe7",
     "regions": {
      "7b04b02b-f984-4a67-aa62-3911722842ce": {
       "attrs": {
        "height": 0.8,
        "width": 0.8,
        "x": 0.1,
        "y": 0.1
       },
       "content": {
        "cell": "20f24fcf-968b-4154-bbad-35dd29813471",
        "part": "whole"
       },
       "id": "7b04b02b-f984-4a67-aa62-3911722842ce"
      }
     }
    },
    "8a442d77-fd4f-4d66-8e0d-f4fd42558fe7": {
     "id": "8a442d77-fd4f-4d66-8e0d-f4fd42558fe7",
     "prev": "6ae3257c-7424-466b-adf2-946bd390c16f",
     "regions": {
      "edc1d0d1-0cbf-4471-aee2-4830501029e3": {
       "attrs": {
        "height": 0.8,
        "width": 0.8,
        "x": 0.1,
        "y": 0.1
       },
       "content": {
        "cell": "0acaf9e9-1304-47c0-9417-c49fd5777b90",
        "part": "whole"
       },
       "id": "edc1d0d1-0cbf-4471-aee2-4830501029e3"
      }
     }
    },
    "9292dc94-b003-4f94-a952-5be2d6743fd0": {
     "id": "9292dc94-b003-4f94-a952-5be2d6743fd0",
     "prev": "2a980468-f8c6-4ad3-95a1-407c52939473",
     "regions": {
      "cefc8da7-22c5-485b-a821-34e64fa5245c": {
       "attrs": {
        "height": 0.8,
        "width": 0.8,
        "x": 0.1,
        "y": 0.1
       },
       "content": {
        "cell": "7a46d2d8-0f3a-4a67-9e9f-bd74bc9faa8a",
        "part": "whole"
       },
       "id": "cefc8da7-22c5-485b-a821-34e64fa5245c"
      }
     }
    },
    "98ed0aaf-16c8-475c-bc98-ca7e4866683c": {
     "id": "98ed0aaf-16c8-475c-bc98-ca7e4866683c",
     "prev": "b41483f9-8505-412b-a1d0-fc5f0a3f0afb",
     "regions": {
      "8e659df9-0b18-41aa-8a05-63cbc4d96ace": {
       "attrs": {
        "height": 0.8,
        "width": 0.8,
        "x": 0.1,
        "y": 0.1
       },
       "content": {
        "cell": "0c248c95-123b-4771-a34c-d80773ddfe85",
        "part": "whole"
       },
       "id": "8e659df9-0b18-41aa-8a05-63cbc4d96ace"
      }
     }
    },
    "9bfce8c0-740a-468e-94f2-ff1076f9f5c8": {
     "id": "9bfce8c0-740a-468e-94f2-ff1076f9f5c8",
     "prev": "ff442ede-e4dd-4da4-9e21-844144f55975",
     "regions": {
      "26e2dc31-6d6c-48c3-a1bb-1a9871240c6d": {
       "attrs": {
        "height": 0.8,
        "width": 0.8,
        "x": 0.1,
        "y": 0.1
       },
       "content": {
        "cell": "0140355b-2280-493f-a82c-176f36960bd2",
        "part": "whole"
       },
       "id": "26e2dc31-6d6c-48c3-a1bb-1a9871240c6d"
      }
     }
    },
    "a174fe03-647f-4a5c-8708-bef464f22b35": {
     "id": "a174fe03-647f-4a5c-8708-bef464f22b35",
     "prev": "874f92cf-90ec-4bc8-a084-974a248bd6eb",
     "regions": {
      "ec417492-b92d-43a9-b46d-bc59e91a5fca": {
       "attrs": {
        "height": 0.8,
        "width": 0.8,
        "x": 0.1,
        "y": 0.1
       },
       "content": {
        "cell": "569ed455-7b16-42a6-9684-7cede753a0d6",
        "part": "whole"
       },
       "id": "ec417492-b92d-43a9-b46d-bc59e91a5fca"
      }
     }
    },
    "a5b1339a-bb18-49bd-92af-eaec1ecc2047": {
     "id": "a5b1339a-bb18-49bd-92af-eaec1ecc2047",
     "prev": "631535b5-d081-4872-858a-b247dffc6a4f",
     "regions": {
      "ab253ef2-2452-4828-9051-6b1fa4141f70": {
       "attrs": {
        "height": 0.8,
        "width": 0.8,
        "x": 0.1,
        "y": 0.1
       },
       "content": {
        "cell": "305ebc9c-365a-4475-acd9-5916be8d9bcd",
        "part": "whole"
       },
       "id": "ab253ef2-2452-4828-9051-6b1fa4141f70"
      }
     }
    },
    "ad970e68-2623-423e-8411-5e2711dbada1": {
     "id": "ad970e68-2623-423e-8411-5e2711dbada1",
     "prev": "9bfce8c0-740a-468e-94f2-ff1076f9f5c8",
     "regions": {
      "61d5f50c-fa0e-4a5f-acb5-2eac3ce897e4": {
       "attrs": {
        "height": 0.8,
        "width": 0.8,
        "x": 0.1,
        "y": 0.1
       },
       "content": {
        "cell": "e6f7c840-3637-4118-b789-9911c94b9075",
        "part": "whole"
       },
       "id": "61d5f50c-fa0e-4a5f-acb5-2eac3ce897e4"
      }
     }
    },
    "b41483f9-8505-412b-a1d0-fc5f0a3f0afb": {
     "id": "b41483f9-8505-412b-a1d0-fc5f0a3f0afb",
     "prev": "ad970e68-2623-423e-8411-5e2711dbada1",
     "regions": {
      "ecd2bc5c-f1ff-4c45-bbb7-6a666d1bfd51": {
       "attrs": {
        "height": 0.8,
        "width": 0.8,
        "x": 0.1,
        "y": 0.1
       },
       "content": {
        "cell": "a5888f2f-a985-4a3c-a69f-a1e1d35cabd4",
        "part": "whole"
       },
       "id": "ecd2bc5c-f1ff-4c45-bbb7-6a666d1bfd51"
      }
     }
    },
    "bd1df3e2-95fc-4ba3-ba2e-06eb988b6213": {
     "id": "bd1df3e2-95fc-4ba3-ba2e-06eb988b6213",
     "prev": "87b8fc1d-e76d-4fbd-92ad-9bd2c7bd4bc8",
     "regions": {
      "3554fc0a-5e5b-42e6-8f95-594c6d1420b1": {
       "attrs": {
        "height": 0.8,
        "width": 0.8,
        "x": 0.1,
        "y": 0.1
       },
       "content": {
        "cell": "c4fb9146-b6ab-495e-9c64-b84a3d8249be",
        "part": "whole"
       },
       "id": "3554fc0a-5e5b-42e6-8f95-594c6d1420b1"
      }
     }
    },
    "d075cd12-2ac8-46c0-b1b3-5a6e40c844af": {
     "id": "d075cd12-2ac8-46c0-b1b3-5a6e40c844af",
     "prev": "a174fe03-647f-4a5c-8708-bef464f22b35",
     "regions": {
      "648046dd-2ee2-4661-a5e1-aa0cbb34f66b": {
       "attrs": {
        "height": 0.8,
        "width": 0.8,
        "x": 0.1,
        "y": 0.1
       },
       "content": {
        "cell": "a4f704b1-01d4-4606-923f-f2fb33d7b5bc",
        "part": "whole"
       },
       "id": "648046dd-2ee2-4661-a5e1-aa0cbb34f66b"
      }
     }
    },
    "d14c01e6-3bcd-46dd-8760-9578ef2adce4": {
     "id": "d14c01e6-3bcd-46dd-8760-9578ef2adce4",
     "prev": "2b21efb1-157d-460f-8452-b080cb0e3407",
     "regions": {
      "5d93d271-6fce-4f54-873f-c38f44fe8cec": {
       "attrs": {
        "height": 0.8,
        "width": 0.8,
        "x": 0.1,
        "y": 0.1
       },
       "content": {
        "cell": "6e32e478-2cf5-4573-add7-2f6bb8d3b233",
        "part": "whole"
       },
       "id": "5d93d271-6fce-4f54-873f-c38f44fe8cec"
      }
     }
    },
    "d70fe30f-53ba-4cf9-b2ee-b9ec7305b0ff": {
     "id": "d70fe30f-53ba-4cf9-b2ee-b9ec7305b0ff",
     "prev": "4229c6c1-e389-4aac-a643-1f7802d48cc5",
     "regions": {
      "756eae34-6f6a-4e3f-a93b-26ab560d58a9": {
       "attrs": {
        "height": 0.8,
        "width": 0.8,
        "x": 0.1,
        "y": 0.1
       },
       "content": {
        "cell": "cabb0a8e-1ad6-4c0b-9e0d-7f9ba457fcc9",
        "part": "whole"
       },
       "id": "756eae34-6f6a-4e3f-a93b-26ab560d58a9"
      }
     }
    },
    "ff442ede-e4dd-4da4-9e21-844144f55975": {
     "id": "ff442ede-e4dd-4da4-9e21-844144f55975",
     "prev": "233b54f0-bd41-4d32-9bb5-1a13de9cd5bb",
     "regions": {
      "21e26b43-dee4-4443-97de-05e167500cf6": {
       "attrs": {
        "height": 0.8,
        "width": 0.8,
        "x": 0.1,
        "y": 0.1
       },
       "content": {
        "cell": "06e42491-1701-4812-a5ed-9180c75fe89c",
        "part": "whole"
       },
       "id": "21e26b43-dee4-4443-97de-05e167500cf6"
      }
     }
    }
   },
   "themes": {
    "default": "0f448870-bb93-49c4-96c2-b8f5e3cfb52f",
    "theme": {
     "0f448870-bb93-49c4-96c2-b8f5e3cfb52f": {
      "backgrounds": {
       "backgroundColor": {
        "background-color": "backgroundColor",
        "id": "backgroundColor"
       }
      },
      "id": "0f448870-bb93-49c4-96c2-b8f5e3cfb52f",
      "palette": {
       "backgroundColor": {
        "id": "backgroundColor",
        "rgb": [
         43,
         43,
         43
        ]
       },
       "headingColor": {
        "id": "headingColor",
        "rgb": [
         238,
         238,
         238
        ]
       },
       "linkColor": {
        "id": "linkColor",
        "rgb": [
         19,
         218,
         236
        ]
       },
       "mainColor": {
        "id": "mainColor",
        "rgb": [
         238,
         238,
         238
        ]
       }
      },
      "rules": {
       "a": {
        "color": "linkColor"
       },
       "h1": {
        "color": "headingColor",
        "font-family": "Oswald",
        "font-size": 7
       },
       "h2": {
        "color": "headingColor",
        "font-family": "Oswald",
        "font-size": 5
       },
       "h3": {
        "color": "headingColor",
        "font-family": "Oswald",
        "font-size": 3.75
       },
       "h4": {
        "color": "headingColor",
        "font-family": "Oswald",
        "font-size": 3
       },
       "h5": {
        "color": "headingColor",
        "font-family": "Oswald"
       },
       "h6": {
        "color": "headingColor",
        "font-family": "Oswald"
       },
       "h7": {
        "color": "headingColor",
        "font-family": "Oswald"
       },
       "li": {
        "color": "mainColor",
        "font-family": "Lato",
        "font-size": 5
       },
       "p": {
        "color": "mainColor",
        "font-family": "Lato",
        "font-size": 5
       }
      },
      "text-base": {
       "color": "mainColor",
       "font-family": "Lato",
       "font-size": 5
      }
     }
    }
   }
  }
 },
 "nbformat": 4,
 "nbformat_minor": 4
}
